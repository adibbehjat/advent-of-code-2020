{
 "cells": [
  {
   "cell_type": "code",
   "execution_count": 1,
   "metadata": {},
   "outputs": [
    {
     "data": {
      "text/html": [
       "<style>\n",
       "\n",
       "/* To make it easier to read the pre and code components */\n",
       "\n",
       ".rendered_html pre {\n",
       "    background-color : #fffddd !important;\n",
       "}\n",
       "\n",
       ".rendered_html pre code {\n",
       "    background-color: transparent !important;\n",
       "}\n",
       "</style>\n"
      ],
      "text/plain": [
       "<IPython.core.display.HTML object>"
      ]
     },
     "metadata": {},
     "output_type": "display_data"
    }
   ],
   "source": [
    "%%HTML\n",
    "<style>\n",
    "\n",
    "/* To make it easier to read the pre and code components */\n",
    "\n",
    ".rendered_html pre {\n",
    "    background-color : #fffddd !important;\n",
    "}\n",
    "\n",
    ".rendered_html pre code {\n",
    "    background-color: transparent !important;\n",
    "}\n",
    "</style>"
   ]
  },
  {
   "cell_type": "markdown",
   "metadata": {},
   "source": [
    "# Day 6\n",
    "\n",
    "## Part 1\n",
    "\n",
    "As your flight approaches the regional airport where you'll switch to a much larger plane, customs declaration forms are distributed to the passengers.\n",
    "\n",
    "The form asks a series of 26 yes-or-no questions marked a through z. All you need to do is identify the questions for which anyone in your group answers \"yes\". Since your group is just you, this doesn't take very long.\n",
    "\n",
    "However, the person sitting next to you seems to be experiencing a language barrier and asks if you can help. For each of the people in their group, you write down the questions for which they answer \"yes\", one per line. For example:\n",
    "\n",
    "```\n",
    "abcx\n",
    "abcy\n",
    "abcz\n",
    "```\n",
    "\n",
    "In this group, there are 6 questions to which anyone answered \"yes\": a, b, c, x, y, and z. (Duplicate answers to the same question don't count extra; each question counts at most once.)\n",
    "\n",
    "Another group asks for your help, then another, and eventually you've collected answers from every group on the plane (your puzzle input). Each group's answers are separated by a blank line, and within each group, each person's answers are on a single line. For example:\n",
    "\n",
    "\n",
    "```\n",
    "abc\n",
    "\n",
    "a\n",
    "b\n",
    "c\n",
    "\n",
    "ab\n",
    "ac\n",
    "\n",
    "a\n",
    "a\n",
    "a\n",
    "a\n",
    "\n",
    "b\n",
    "```\n",
    "\n",
    "This list represents answers from five groups:\n",
    "\n",
    "* The first group contains one person who answered \"yes\" to 3 questions: a, b, and c.\n",
    "* The second group contains three people; combined, they answered \"yes\" to 3 questions: a, b, and c.\n",
    "* The third group contains two people; combined, they answered \"yes\" to 3 questions: a, b, and c.\n",
    "* The fourth group contains four people; combined, they answered \"yes\" to only 1 question, a.\n",
    "* The last group contains one person who answered \"yes\" to only 1 question, b.\n",
    "\n",
    "In this example, the sum of these counts is `3 + 3 + 3 + 1 + 1 = 11`.\n",
    "\n",
    "For each group, count the number of questions to which anyone answered \"yes\". What is the sum of those counts?"
   ]
  },
  {
   "cell_type": "code",
   "execution_count": 2,
   "metadata": {},
   "outputs": [
    {
     "name": "stdout",
     "output_type": "stream",
     "text": [
      "[['b'], ['b'], ['b'], ['b']]\n",
      "[['x'], ['x', 'f', 'k', 'j'], ['x', 'b']]\n"
     ]
    }
   ],
   "source": [
    "# Build a data structure that's scalable\n",
    "groups = dict() # Host the data in a groups dict\n",
    "i = 0 # Indexing\n",
    "\n",
    "with open('inputs/day_6.txt') as reader:\n",
    "    \n",
    "    for line in reader:\n",
    "        \n",
    "        if not groups.get(i):\n",
    "            groups[i] = list()\n",
    "        \n",
    "        # Collect data into groups\n",
    "        if line != \"\\n\":\n",
    "            groups[i].append([char for char in line.rstrip('\\n')])\n",
    "                                \n",
    "        else:\n",
    "            if bool(groups.get(i)):\n",
    "                i += 1\n",
    "\n",
    "# Test the data structure\n",
    "print(groups[0])\n",
    "print(groups[1])"
   ]
  },
  {
   "cell_type": "code",
   "execution_count": 3,
   "metadata": {},
   "outputs": [
    {
     "data": {
      "text/plain": [
       "{'b', 'f', 'j', 'k', 'x'}"
      ]
     },
     "execution_count": 3,
     "metadata": {},
     "output_type": "execute_result"
    }
   ],
   "source": [
    "# Let's play with sets\n",
    "\n",
    "a = set()\n",
    "for i in groups[1]:\n",
    "    a |= set(i)\n",
    "\n",
    "a # This works perfectly as it counts unique instances"
   ]
  },
  {
   "cell_type": "code",
   "execution_count": 4,
   "metadata": {},
   "outputs": [
    {
     "data": {
      "text/plain": [
       "6534"
      ]
     },
     "execution_count": 4,
     "metadata": {},
     "output_type": "execute_result"
    }
   ],
   "source": [
    "# We can count the size of each set, which will provide us the number of unique instances\n",
    "total = list()\n",
    "for group in groups.values():\n",
    "    a = set()\n",
    "    for i in group:\n",
    "        a |= set(i)\n",
    "    total.append(len(a))\n",
    "    \n",
    "sum(total) #Answer"
   ]
  },
  {
   "cell_type": "markdown",
   "metadata": {},
   "source": [
    "## Part 2\n",
    "\n",
    "As you finish the last group's customs declaration, you notice that you misread one word in the instructions:\n",
    "\n",
    "You don't need to identify the questions to which anyone answered \"yes\"; you need to identify the questions to which everyone answered \"yes\"!\n",
    "\n",
    "Using the same example as above:\n",
    "\n",
    "```\n",
    "abc\n",
    "\n",
    "a\n",
    "b\n",
    "c\n",
    "\n",
    "ab\n",
    "ac\n",
    "\n",
    "a\n",
    "a\n",
    "a\n",
    "a\n",
    "\n",
    "b\n",
    "```\n",
    "This list represents answers from five groups:\n",
    "\n",
    "* In the first group, everyone (all 1 person) answered \"yes\" to 3 questions: a, b, and c.\n",
    "* In the second group, there is no question to which everyone answered \"yes\".\n",
    "* In the third group, everyone answered yes to only 1 question, a. Since some people did not answer \"yes\" to b or c, they don't count.\n",
    "* In the fourth group, everyone answered yes to only 1 question, a.\n",
    "* In the fifth group, everyone (all 1 person) answered \"yes\" to 1 question, b.\n",
    "\n",
    "In this example, the sum of these counts is `3 + 0 + 1 + 1 + 1 = 6`.\n",
    "\n",
    "For each group, count the number of questions to which everyone answered \"yes\". What is the sum of those counts?"
   ]
  },
  {
   "cell_type": "code",
   "execution_count": 5,
   "metadata": {},
   "outputs": [
    {
     "data": {
      "text/plain": [
       "{'b'}"
      ]
     },
     "execution_count": 5,
     "metadata": {},
     "output_type": "execute_result"
    }
   ],
   "source": [
    "# This is basically asking intersection of responses of all passengers\n",
    "# For this, we use the all powerful set.intersection()\n",
    "\n",
    "# This requires few steps which I learned from here \n",
    "# https://stackoverflow.com/questions/10861236/intersection-of-variable-number-of-lists\n",
    "# 1. Transform the list of responses into a hashable set (i.e. list() -> set())\n",
    "# 2. 'Unpack' the responses so it can be read by \"intersection\" module. You cannot pass a list of sets in it\n",
    "# 3. Run the magic\n",
    "\n",
    "# Here's an example:\n",
    "set.intersection(*map(set, groups[0]))"
   ]
  },
  {
   "cell_type": "code",
   "execution_count": 6,
   "metadata": {},
   "outputs": [
    {
     "data": {
      "text/plain": [
       "3402"
      ]
     },
     "execution_count": 6,
     "metadata": {},
     "output_type": "execute_result"
    }
   ],
   "source": [
    "# All we need to do now is loop through, find intersection, measure size, and we're all set!\n",
    "output = list()\n",
    "for group in groups.values():\n",
    "    output.append(len(set.intersection(*map(set,group))))\n",
    "    \n",
    "sum(output) # Answer"
   ]
  }
 ],
 "metadata": {
  "kernelspec": {
   "display_name": "Python 3",
   "language": "python",
   "name": "python3"
  },
  "language_info": {
   "codemirror_mode": {
    "name": "ipython",
    "version": 3
   },
   "file_extension": ".py",
   "mimetype": "text/x-python",
   "name": "python",
   "nbconvert_exporter": "python",
   "pygments_lexer": "ipython3",
   "version": "3.7.4"
  }
 },
 "nbformat": 4,
 "nbformat_minor": 2
}
