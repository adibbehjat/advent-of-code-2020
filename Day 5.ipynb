{
 "cells": [
  {
   "cell_type": "code",
   "execution_count": 1,
   "metadata": {},
   "outputs": [],
   "source": [
    "%%HTML\n",
    "<style>\n",
    "\n",
    "/* To make it easier to read the pre and code components */\n",
    "\n",
    ".rendered_html pre {\n",
    "    background-color : #fffddd !important;\n",
    "}\n",
    "\n",
    ".rendered_html pre code {\n",
    "    background-color: transparent !important;\n",
    "}\n",
    "</style>"
   ]
  },
  {
   "cell_type": "markdown",
   "metadata": {},
   "source": [
    "# Day 5\n",
    "\n",
    "## Part 1\n",
    "\n",
    "You board your plane only to discover a new problem: you dropped your boarding pass! You aren't sure which seat is yours, and all of the flight attendants are busy with the flood of people that suddenly made it through passport control.\n",
    "\n",
    "You write a quick program to use your phone's camera to scan all of the nearby boarding passes (your puzzle input); perhaps you can find your seat through process of elimination.\n",
    "\n",
    "Instead of zones or groups, this airline uses binary space partitioning to seat people. A seat might be specified like FBFBBFFRLR, where F means \"front\", B means \"back\", L means \"left\", and R means \"right\".\n",
    "\n",
    "The first 7 characters will either be F or B; these specify exactly one of the 128 rows on the plane (numbered 0 through 127). Each letter tells you which half of a region the given seat is in. Start with the whole list of rows; the first letter indicates whether the seat is in the front (0 through 63) or the back (64 through 127). The next letter indicates which half of that region the seat is in, and so on until you're left with exactly one row.\n",
    "\n",
    "For example, consider just the first seven characters of `FBFBBFFRLR`:\n",
    "\n",
    "* Start by considering the whole range, rows 0 through 127.\n",
    "* F means to take the lower half, keeping rows 0 through 63.\n",
    "* B means to take the upper half, keeping rows 32 through 63.\n",
    "* F means to take the lower half, keeping rows 32 through 47.\n",
    "* B means to take the upper half, keeping rows 40 through 47.\n",
    "* B keeps rows 44 through 47.\n",
    "* F keeps rows 44 through 45.\n",
    "* The final F keeps the lower of the two, row 44.\n",
    "\n",
    "The last three characters will be either L or R; these specify exactly one of the 8 columns of seats on the plane (numbered 0 through 7). The same process as above proceeds again, this time with only three steps. L means to keep the lower half, while R means to keep the upper half.\n",
    "\n",
    "For example, consider just the last 3 characters of `FBFBBFFRLR`:\n",
    "\n",
    "* Start by considering the whole range, columns 0 through 7.\n",
    "* R means to take the upper half, keeping columns 4 through 7.\n",
    "* L means to take the lower half, keeping columns 4 through 5.\n",
    "* The final R keeps the upper of the two, column 5.\n",
    "\n",
    "So, decoding `FBFBBFFRLR` reveals that it is the seat at row 44, column 5.\n",
    "\n",
    "Every seat also has a unique seat ID: multiply the row by 8, then add the column. \n",
    "In this example, the seat has ID `44 * 8 + 5 = 357`.\n",
    "\n",
    "Here are some other boarding passes:\n",
    "\n",
    "* `BFFFBBFRRR`: row 70, column 7, seat ID **567**.\n",
    "* `FFFBBBFRRR`: row 14, column 7, seat ID **119**.\n",
    "* `BBFFBBFRLL`: row 102, column 4, seat ID **820**.\n",
    "\n",
    "As a sanity check, look through your list of boarding passes. What is the highest seat ID on a boarding pass?"
   ]
  },
  {
   "cell_type": "code",
   "execution_count": 2,
   "metadata": {},
   "outputs": [],
   "source": [
    "# Pull the data into python\n",
    "with open('inputs/day_5.txt') as reader:\n",
    "    data = [i.rstrip('\\n') for i in reader]"
   ]
  },
  {
   "cell_type": "code",
   "execution_count": 16,
   "metadata": {},
   "outputs": [
    {
     "name": "stdout",
     "output_type": "stream",
     "text": [
      "357\n"
     ]
    }
   ],
   "source": [
    "# Create a recursive function that goes through the process of finding the final row/column\n",
    "def search_mid(min_val, max_val, bsp, lower = [\"F\",\"L\"], upper = [\"B\",\"R\"]):\n",
    "    \n",
    "    for s in bsp:\n",
    "        \n",
    "        d = round((max_val - min_val) / 2)\n",
    "        \n",
    "        if d == 0:\n",
    "            d = 1\n",
    "        \n",
    "        if s in lower:\n",
    "            max_val = max_val - d\n",
    "            \n",
    "        if s in upper:\n",
    "            min_val = min_val + d\n",
    "            \n",
    "    if max_val == min_val:\n",
    "        return max_val\n",
    "    \n",
    "    if max_val < min_val:\n",
    "        return False\n",
    "\n",
    "# Test\n",
    "print(search_mid(0,127,'FBFBBFFRLR'[:7])*8 + search_mid(0,7,'FBFBBFFRLR'[7:]))"
   ]
  },
  {
   "cell_type": "code",
   "execution_count": 18,
   "metadata": {},
   "outputs": [
    {
     "data": {
      "text/plain": [
       "922"
      ]
     },
     "execution_count": 18,
     "metadata": {},
     "output_type": "execute_result"
    }
   ],
   "source": [
    "# Collect all answers\n",
    "output = list()\n",
    "for e in data:\n",
    "    output.append(search_mid(0,127,e[:7])*8 + search_mid(0,7,e[7:]))\n",
    "\n",
    "max(output) # Answer"
   ]
  },
  {
   "cell_type": "markdown",
   "metadata": {},
   "source": [
    "## Part 2\n",
    "\n",
    "Ding! The \"fasten seat belt\" signs have turned on. Time to find your seat.\n",
    "\n",
    "It's a completely full flight, so your seat should be the only missing boarding pass in your list. However, there's a catch: some of the seats at the very front and back of the plane don't exist on this aircraft, so they'll be missing from your list as well.\n",
    "\n",
    "Your seat wasn't at the very front or back, though; the seats with IDs +1 and -1 from yours will be in your list.\n",
    "\n",
    "What is the ID of your seat?"
   ]
  },
  {
   "cell_type": "code",
   "execution_count": 28,
   "metadata": {},
   "outputs": [
    {
     "name": "stdout",
     "output_type": "stream",
     "text": [
      "The missing ID is 747\n"
     ]
    }
   ],
   "source": [
    "# Let's sort the data\n",
    "output.sort()\n",
    "\n",
    "# The sorted output shows a sequence of numbers. The missing seat is the one that's not in the list.\n",
    "\n",
    "# Go through the set\n",
    "for i in range(len(output)-1):\n",
    "    if (output[i] + 1) != output[i+1]:\n",
    "        print('The missing ID is {}'.format(output[i] + 1)) # Answer"
   ]
  }
 ],
 "metadata": {
  "kernelspec": {
   "display_name": "Python 3",
   "language": "python",
   "name": "python3"
  },
  "language_info": {
   "codemirror_mode": {
    "name": "ipython",
    "version": 3
   },
   "file_extension": ".py",
   "mimetype": "text/x-python",
   "name": "python",
   "nbconvert_exporter": "python",
   "pygments_lexer": "ipython3",
   "version": "3.7.4"
  }
 },
 "nbformat": 4,
 "nbformat_minor": 2
}
