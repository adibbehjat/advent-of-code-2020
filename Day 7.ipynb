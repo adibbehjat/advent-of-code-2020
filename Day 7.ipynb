{
 "cells": [
  {
   "cell_type": "code",
   "execution_count": 1,
   "metadata": {},
   "outputs": [],
   "source": [
    "%%HTML\n",
    "<style>\n",
    "\n",
    "/* To make it easier to read the pre and code components */\n",
    "\n",
    ".rendered_html pre {\n",
    "    background-color : #fffddd !important;\n",
    "}\n",
    "\n",
    ".rendered_html pre code {\n",
    "    background-color: transparent !important;\n",
    "}\n",
    "</style>"
   ]
  },
  {
   "cell_type": "markdown",
   "metadata": {},
   "source": [
    "# Day 7\n",
    "## Part 1\n",
    "\n",
    "You land at the regional airport in time for your next flight. In fact, it looks like you'll even have time to grab some food: all flights are currently delayed due to issues in luggage processing.\n",
    "\n",
    "Due to recent aviation regulations, many rules (your puzzle input) are being enforced about bags and their contents; bags must be color-coded and must contain specific quantities of other color-coded bags. Apparently, nobody responsible for these regulations considered how long they would take to enforce!\n",
    "\n",
    "For example, consider the following rules:\n",
    "\n",
    "```\n",
    "* light red bags contain 1 bright white bag, 2 muted yellow bags.\n",
    "* dark orange bags contain 3 bright white bags, 4 muted yellow bags.\n",
    "* bright white bags contain 1 shiny gold bag.\n",
    "* muted yellow bags contain 2 shiny gold bags, 9 faded blue bags.\n",
    "* shiny gold bags contain 1 dark olive bag, 2 vibrant plum bags.\n",
    "* dark olive bags contain 3 faded blue bags, 4 dotted black bags.\n",
    "* vibrant plum bags contain 5 faded blue bags, 6 dotted black bags.\n",
    "* faded blue bags contain no other bags.\n",
    "* dotted black bags contain no other bags.\n",
    "```\n",
    "\n",
    "These rules specify the required contents for 9 bag types. In this example, every faded blue bag is empty, every vibrant plum bag contains 11 bags (5 faded blue and 6 dotted black), and so on.\n",
    "\n",
    "You have a shiny gold bag. If you wanted to carry it in at least one other bag, how many different bag colors would be valid for the outermost bag? (In other words: how many colors can, eventually, contain at least one shiny gold bag?)\n",
    "\n",
    "In the above rules, the following options would be available to you:\n",
    "\n",
    "* A bright white bag, which can hold your shiny gold bag directly.\n",
    "* A muted yellow bag, which can hold your shiny gold bag directly, plus some other bags.\n",
    "* A dark orange bag, which can hold bright white and muted yellow bags, either of which could then hold your shiny gold bag.\n",
    "* A light red bag, which can hold bright white and muted yellow bags, either of which could then hold your shiny gold bag.\n",
    "\n",
    "So, in this example, the number of bag colors that can eventually contain at least one shiny gold bag is 4.\n",
    "\n",
    "How many bag colors can eventually contain at least one shiny gold bag? (The list of rules is quite long; make sure you get all of it.)"
   ]
  },
  {
   "cell_type": "markdown",
   "metadata": {},
   "source": [
    "### Include essential libraries"
   ]
  },
  {
   "cell_type": "code",
   "execution_count": 2,
   "metadata": {},
   "outputs": [],
   "source": [
    "# To best solve this problem, you can try two ways:\n",
    "# Adjancency Matrix\n",
    "# Graph Data Structure\n",
    "\n",
    "# We'll try solving with both\n",
    "\n",
    "# Import regex and numpy\n",
    "import re\n",
    "import numpy as np\n",
    "\n",
    "# PrettyPrint\n",
    "from pprint import pprint\n",
    "\n",
    "# Time to measure performance of each method\n",
    "import time"
   ]
  },
  {
   "cell_type": "markdown",
   "metadata": {},
   "source": [
    "### Generate the necessary data structure"
   ]
  },
  {
   "cell_type": "code",
   "execution_count": 3,
   "metadata": {},
   "outputs": [],
   "source": [
    "# Create a function that cleans the input and outputs a matrix\n",
    "def matrix_and_graph_generator(data_input):\n",
    "    \n",
    "    # Regex\n",
    "    re_key = r'(\\S.+) bags contain (.*)?'\n",
    "    re_val = r'(\\d+) ([ A-z]+) bag?'\n",
    "    \n",
    "    # Capture the size of the problem\n",
    "    size = 0\n",
    "\n",
    "    # A list of keys (for indexing)\n",
    "    keys = list()\n",
    "\n",
    "    # A hash table\n",
    "    graph = {}\n",
    "\n",
    "    # Iterate\n",
    "    for line in data_input:\n",
    "\n",
    "        # Iterate\n",
    "        size += 1\n",
    "\n",
    "        # Collect the key via regex\n",
    "        key = re.match(re_key, line)[1]\n",
    "        keys.append(key)\n",
    "\n",
    "        # Collect the values\n",
    "        values = [(v[1],int(v[0])) for v in re.findall(re_val,line)]\n",
    "\n",
    "        # Build the hash\n",
    "        graph[key] = dict([*values])\n",
    "\n",
    "    # Create a template for the adjacency matrix\n",
    "    matrix = np.zeros(shape=(size,size), dtype=int)\n",
    "    \n",
    "\n",
    "    # Create a dictionary of key name and index/position\n",
    "    keys = {v:k for k,v in enumerate(keys)}\n",
    "\n",
    "    # Generate the matrix\n",
    "    for key in graph:\n",
    "\n",
    "        # If this is a terminal node, do not continue (i.e. there's nothing 'from' this node 'to' another node)\n",
    "        if graph[key]:\n",
    "\n",
    "            # Collect the i (row) value to set the FROM node\n",
    "            i = keys[key]\n",
    "\n",
    "            # Let's now update the column value to set the TO node\n",
    "            for neighbor in graph[key]:\n",
    "                j = keys[neighbor]\n",
    "                matrix[i][j] = graph[key][neighbor]\n",
    "                \n",
    "    return [matrix, graph, keys]"
   ]
  },
  {
   "cell_type": "markdown",
   "metadata": {},
   "source": [
    "### Build out different data samples"
   ]
  },
  {
   "cell_type": "code",
   "execution_count": 4,
   "metadata": {},
   "outputs": [
    {
     "name": "stdout",
     "output_type": "stream",
     "text": [
      "{'bright white': {'shiny gold': 1},\n",
      " 'dark olive': {'dotted black': 4, 'faded blue': 3},\n",
      " 'dark orange': {'bright white': 3, 'muted yellow': 4},\n",
      " 'dotted black': {},\n",
      " 'faded blue': {},\n",
      " 'light red': {'bright white': 1, 'muted yellow': 2},\n",
      " 'muted yellow': {'faded blue': 9, 'shiny gold': 2},\n",
      " 'shiny gold': {'dark olive': 1, 'vibrant plum': 2},\n",
      " 'vibrant plum': {'dotted black': 6, 'faded blue': 5}}\n",
      "[[0 0 1 2 0 0 0 0 0]\n",
      " [0 0 3 4 0 0 0 0 0]\n",
      " [0 0 0 0 1 0 0 0 0]\n",
      " [0 0 0 0 2 0 0 9 0]\n",
      " [0 0 0 0 0 1 2 0 0]\n",
      " [0 0 0 0 0 0 0 3 4]\n",
      " [0 0 0 0 0 0 0 5 6]\n",
      " [0 0 0 0 0 0 0 0 0]\n",
      " [0 0 0 0 0 0 0 0 0]]\n"
     ]
    }
   ],
   "source": [
    "data_1 = \"\"\"light red bags contain 1 bright white bag, 2 muted yellow bags.\n",
    "dark orange bags contain 3 bright white bags, 4 muted yellow bags.\n",
    "bright white bags contain 1 shiny gold bag.\n",
    "muted yellow bags contain 2 shiny gold bags, 9 faded blue bags.\n",
    "shiny gold bags contain 1 dark olive bag, 2 vibrant plum bags.\n",
    "dark olive bags contain 3 faded blue bags, 4 dotted black bags.\n",
    "vibrant plum bags contain 5 faded blue bags, 6 dotted black bags.\n",
    "faded blue bags contain no other bags.\n",
    "dotted black bags contain no other bags.\"\"\".split(\"\\n\")\n",
    "\n",
    "matrix_1, graph_1, keys_1 = matrix_and_graph_generator(data_1)\n",
    "\n",
    "data_2 = \"\"\"shiny gold bags contain 2 dark red bags.\n",
    "dark red bags contain 2 dark orange bags.\n",
    "dark orange bags contain 2 dark yellow bags.\n",
    "dark yellow bags contain 2 dark green bags.\n",
    "dark green bags contain 2 dark blue bags.\n",
    "dark blue bags contain 2 dark violet bags.\n",
    "dark violet bags contain no other bags.\"\"\".split(\"\\n\")\n",
    "\n",
    "matrix_2, graph_2, keys_2 = matrix_and_graph_generator(data_2)\n",
    "\n",
    "# Access the file\n",
    "with open('inputs/day_7.txt') as reader:\n",
    "    matrix_3, graph_3, keys_3 = matrix_and_graph_generator(reader)\n",
    "    \n",
    "# Test it out\n",
    "pprint(graph_1)\n",
    "print(matrix_1)"
   ]
  },
  {
   "cell_type": "markdown",
   "metadata": {},
   "source": [
    "### Building Find Bag for both data structures"
   ]
  },
  {
   "cell_type": "code",
   "execution_count": 5,
   "metadata": {},
   "outputs": [],
   "source": [
    "# Matrix Algorithm\n",
    "def find_bags_matrix(matrix, bag, keys):\n",
    "    \n",
    "    # Capture the row names that can host the bag\n",
    "    results = []\n",
    "    \n",
    "    # Identify the TO node (column) and then find where the movement is coming FROM (row)\n",
    "    columns = [keys[bag]]\n",
    "    \n",
    "    while columns:\n",
    "        \n",
    "        # Pop the last column\n",
    "        col = columns.pop()\n",
    "        \n",
    "        # Loop through the rows\n",
    "        for row in range(len(matrix)):\n",
    "            \n",
    "            if matrix[row][col] > 0:\n",
    "                columns.append(row) # Take the row index as the column index (traversing backwards)\n",
    "                if row not in results and row != keys[bag]:\n",
    "                    results.append(row)\n",
    "                    \n",
    "    return results\n",
    "\n",
    "# Graph Algorithm\n",
    "def find_bags_graph(graph, bag):\n",
    "    \n",
    "    # Capture the nodes that we're interested in\n",
    "    results = []\n",
    "    \n",
    "    # Create a reverse graph, where the key is the destination, \n",
    "    # and children are the nodes to that destination (along with the weight of edge)\n",
    "    \n",
    "    reverse_graph = dict()\n",
    "    \n",
    "    for k,v in graph.items():\n",
    "        \n",
    "        # Setup the initial nodes of our reverse graph\n",
    "        if k not in reverse_graph:\n",
    "            reverse_graph[k] = dict()\n",
    "        \n",
    "        # Parse through the original graph, and invert it\n",
    "        for destination, weight in v.items():\n",
    "            if destination not in reverse_graph:\n",
    "                reverse_graph[destination] = {\n",
    "                    k:weight\n",
    "                }\n",
    "            else:\n",
    "                reverse_graph[destination][k] = weight\n",
    "    \n",
    "    # pprint(reverse_graph)\n",
    "    \n",
    "    # Now that we have our reverse graph, let's traverse!\n",
    "    path = [bag] # Our starting point\n",
    "    traversed_path = [] # To record what we've explored already\n",
    "    \n",
    "    while path:\n",
    "        \n",
    "        # Let's get the nodes we want\n",
    "        node = path.pop()\n",
    "        \n",
    "        # Let's not go through the same node again\n",
    "        if node not in traversed_path:\n",
    "            \n",
    "            # Capture the keys in the node (the parents we're interested in)\n",
    "            # And establish them as new path\n",
    "            for parent in list(reverse_graph[node].keys()):\n",
    "                \n",
    "                \n",
    "                if parent not in results:\n",
    "                    # Record the result!\n",
    "                    results.append(parent)\n",
    "                \n",
    "                # Update the path\n",
    "                path.append(parent)\n",
    "            \n",
    "            # Record it for future use\n",
    "            traversed_path.append(node)\n",
    "                \n",
    "    return results"
   ]
  },
  {
   "cell_type": "markdown",
   "metadata": {},
   "source": [
    "### Measure performance of each method (Sample Data)"
   ]
  },
  {
   "cell_type": "code",
   "execution_count": 6,
   "metadata": {},
   "outputs": [
    {
     "name": "stdout",
     "output_type": "stream",
     "text": [
      "Matrix method answer is 4, it took 9.7e-05s to process this request\n",
      "Graph method answer is 4, it took 5.4e-05s to process this request\n"
     ]
    }
   ],
   "source": [
    "# Let's compare speeds for the sample question\n",
    "\n",
    "# Matrix\n",
    "start_matrix = time.time()\n",
    "answer_matrix = len(find_bags_matrix(matrix_1, \"shiny gold\", keys_1)) # Answer\n",
    "end_matrix = time.time()\n",
    "\n",
    "# Graph\n",
    "start_graph = time.time()\n",
    "answer_graph = len(find_bags_graph(graph_1, \"shiny gold\")) # Answer\n",
    "end_graph = time.time()\n",
    "\n",
    "# Result\n",
    "print(\"Matrix method answer is {}, it took {:.2}s to process this request\".format(answer_matrix, end_matrix - start_matrix))\n",
    "print(\"Graph method answer is {}, it took {:.2}s to process this request\".format(answer_graph, end_graph - start_graph))"
   ]
  },
  {
   "cell_type": "markdown",
   "metadata": {},
   "source": [
    "### Measure performance of each method (Puzzle Data)"
   ]
  },
  {
   "cell_type": "code",
   "execution_count": 7,
   "metadata": {},
   "outputs": [
    {
     "name": "stdout",
     "output_type": "stream",
     "text": [
      "Matrix method answer is 126, it took 0.047s to process this request\n",
      "Graph method answer is 126, it took 0.00091s to process this request\n"
     ]
    }
   ],
   "source": [
    "# Let's compare speeds for the sample question\n",
    "\n",
    "# Matrix\n",
    "start_matrix = time.time()\n",
    "answer_matrix = len(find_bags_matrix(matrix_3, \"shiny gold\", keys_3)) # Answer\n",
    "end_matrix = time.time()\n",
    "\n",
    "# Graph\n",
    "start_graph = time.time()\n",
    "answer_graph = len(find_bags_graph(graph_3, \"shiny gold\")) # Answer\n",
    "end_graph = time.time()\n",
    "\n",
    "# Result\n",
    "print(\"Matrix method answer is {}, it took {:.2}s to process this request\".format(answer_matrix, end_matrix - start_matrix))\n",
    "print(\"Graph method answer is {}, it took {:.2}s to process this request\".format(answer_graph, end_graph - start_graph))"
   ]
  },
  {
   "cell_type": "markdown",
   "metadata": {},
   "source": [
    "## Part 2\n",
    "\n",
    "It's getting pretty expensive to fly these days - not because of ticket prices, but because of the ridiculous number of bags you need to buy!\n",
    "\n",
    "Consider again your shiny gold bag and the rules from the above example:\n",
    "\n",
    "* faded blue bags contain 0 other bags.\n",
    "* dotted black bags contain 0 other bags.\n",
    "* vibrant plum bags contain 11 other bags: 5 faded blue bags and 6 dotted black bags.\n",
    "* dark olive bags contain 7 other bags: 3 faded blue bags and 4 dotted black bags.\n",
    "\n",
    "So, a single shiny gold bag must contain 1 dark olive bag (and the 7 bags within it) plus 2 vibrant plum bags (and the 11 bags within each of those): \n",
    "\n",
    "1 + 1\\*7 + 2 + 2\\*11 = **32 bags!**\n",
    "\n",
    "Of course, the actual rules have a small chance of going several levels deeper than this example; be sure to count all of the bags, even if the nesting becomes topologically impractical!\n",
    "\n",
    "Here's another example:\n",
    "\n",
    "```\n",
    "shiny gold bags contain 2 dark red bags.\n",
    "dark red bags contain 2 dark orange bags.\n",
    "dark orange bags contain 2 dark yellow bags.\n",
    "dark yellow bags contain 2 dark green bags.\n",
    "dark green bags contain 2 dark blue bags.\n",
    "dark blue bags contain 2 dark violet bags.\n",
    "dark violet bags contain no other bags.\n",
    "```\n",
    "\n",
    "In this example, a single shiny gold bag must contain 126 other bags.\n",
    "\n",
    "How many individual bags are required inside your single shiny gold bag?"
   ]
  },
  {
   "cell_type": "code",
   "execution_count": 28,
   "metadata": {},
   "outputs": [
    {
     "name": "stdout",
     "output_type": "stream",
     "text": [
      "220149\n"
     ]
    },
    {
     "data": {
      "text/plain": [
       "220149"
      ]
     },
     "execution_count": 28,
     "metadata": {},
     "output_type": "execute_result"
    }
   ],
   "source": [
    "# Matrix Algorithm\n",
    "def count_bags_matrix(matrix, bag_row, multiplier = 1):\n",
    "    \"\"\"\n",
    "    Basically, given the matrix, we want to traverse backwards and collect the weights\n",
    "    inside each cell of the matrix. We'll use multipliers, a variable that changes as we go down\n",
    "    the rabbit hole using a Depth-first search.\n",
    "    \n",
    "    Multiplier = Weight calculatorc compounder\n",
    "    \"\"\"\n",
    "    \n",
    "    total = 0\n",
    "    \n",
    "    # Starter node\n",
    "    rows = [bag_row] # Basically the bag we're interested in\n",
    "    \n",
    "    while rows:\n",
    "        \n",
    "        # Pop the last columns\n",
    "        row = rows.pop()\n",
    "        \n",
    "        # Loop through the rows\n",
    "        for col in range(len(matrix)):\n",
    "            \n",
    "            # Find an instance where it exists\n",
    "            if matrix[row][col] > 0:\n",
    "                \n",
    "                # Create a new multiplier instance\n",
    "                x = multiplier * matrix[row][col] # Collect the value in that cell and multiply with multiplier\n",
    "                \n",
    "                total += x # Add to the total\n",
    "                \n",
    "                # Let's solve this recursively\n",
    "                total += count_bags_matrix(matrix,col,x) # Go down the rabbit hole and search deeper (Depth-First search)          \n",
    "    \n",
    "    # Horay!\n",
    "    return total\n",
    "\n",
    "\n",
    "# Graph Algorithm\n",
    "def count_bags_graph(graph, start, multiplier = 1):\n",
    "    \n",
    "    # Count the number of bags along the way\n",
    "    total = 0\n",
    "    \n",
    "    # If terminal node, terminate immediately\n",
    "    if graph[start]:\n",
    "        \n",
    "        # Target nodes\n",
    "        for node, weight in graph[start].items():\n",
    "            \n",
    "            # Collect the total and create temp multiplier\n",
    "            x = multiplier * weight\n",
    "            total += x\n",
    "            total += count_bags_graph(graph, node, x)\n",
    "            \n",
    "    return total"
   ]
  },
  {
   "cell_type": "markdown",
   "metadata": {},
   "source": [
    "### Measure performance of each method (Puzzle Data)"
   ]
  },
  {
   "cell_type": "code",
   "execution_count": null,
   "metadata": {},
   "outputs": [],
   "source": [
    "# Let's compare speeds for the sample question\n",
    "\n",
    "# Matrix\n",
    "start_matrix = time.time()\n",
    "answer_matrix = count_bags_matrix(matrix_3, keys[\"shiny gold\"]) # Answer\n",
    "end_matrix = time.time()\n",
    "\n",
    "# Graph\n",
    "start_graph = time.time()\n",
    "answer_graph = count_(graph_3, \"shiny gold\")) # Answer\n",
    "end_graph = time.time()\n",
    "\n",
    "# Result\n",
    "print(\"Matrix method answer is {}, it took {:.2}s to process this request\".format(answer_matrix, end_matrix - start_matrix))\n",
    "print(\"Graph method answer is {}, it took {:.2}s to process this request\".format(answer_graph, end_graph - start_graph))"
   ]
  }
 ],
 "metadata": {
  "kernelspec": {
   "display_name": "Python 3",
   "language": "python",
   "name": "python3"
  },
  "language_info": {
   "codemirror_mode": {
    "name": "ipython",
    "version": 3
   },
   "file_extension": ".py",
   "mimetype": "text/x-python",
   "name": "python",
   "nbconvert_exporter": "python",
   "pygments_lexer": "ipython3",
   "version": "3.7.9"
  }
 },
 "nbformat": 4,
 "nbformat_minor": 2
}
