{
 "cells": [
  {
   "cell_type": "markdown",
   "metadata": {},
   "source": [
    "# Day 1\n",
    "## Part 1\n",
    "\n",
    "The Elves in accounting just need you to fix your expense report (your puzzle input); apparently, something isn't quite adding up.\n",
    "\n",
    "Specifically, they need you to find the two entries that sum to 2020 and then multiply those two numbers together.\n",
    "\n",
    "For example, suppose your expense report contained the following:\n",
    "\n",
    "```\n",
    "1721\n",
    "979\n",
    "366\n",
    "299\n",
    "675\n",
    "1456\n",
    "```\n",
    "\n",
    "In this list, the two entries that sum to `2020` are `1721` and `299`. Multiplying them together produces `1721 * 299 = 514579`, so the correct answer is `514579`.\n",
    "\n",
    "Of course, your expense report is much larger. Find the two entries that sum to 2020; what do you get if you multiply them together?\n",
    "\n",
    "Input link: https://adventofcode.com/2020/day/1/input"
   ]
  },
  {
   "cell_type": "code",
   "execution_count": 1,
   "metadata": {},
   "outputs": [],
   "source": [
    "# Numpy library for product\n",
    "from numpy import prod\n",
    "\n",
    "# Pull the data into python\n",
    "with open('inputs/day_1.txt') as reader:\n",
    "    data = [int(i.rstrip('\\n')) for i in reader]"
   ]
  },
  {
   "cell_type": "code",
   "execution_count": 2,
   "metadata": {},
   "outputs": [],
   "source": [
    "# Establish pointer, and then go down the list until a sum is found. If found, multiply them.\n",
    "# If nothing is found after going through the list, move the pointer + 1, and start the process again.\n",
    "pointer = 0\n",
    "\n",
    "def sum_finder(pointer):\n",
    "    \n",
    "    # Initialize result\n",
    "    result = False\n",
    "    \n",
    "    if pointer == len(data):\n",
    "        return result\n",
    "        \n",
    "    starting_point = pointer + 1\n",
    "    \n",
    "    for i in range(starting_point, len(data)):\n",
    "        \n",
    "        if data[pointer] + data[i] == 2020:\n",
    "            return data[pointer], data[i]\n",
    "        \n",
    "        \n",
    "    pointer = pointer + 1\n",
    "    \n",
    "    return sum_finder(pointer)\n",
    "    \n",
    "result = sum_finder(pointer)"
   ]
  },
  {
   "cell_type": "code",
   "execution_count": 3,
   "metadata": {},
   "outputs": [
    {
     "data": {
      "text/plain": [
       "1010884"
      ]
     },
     "execution_count": 3,
     "metadata": {},
     "output_type": "execute_result"
    }
   ],
   "source": [
    "prod(result) # Answer"
   ]
  },
  {
   "cell_type": "markdown",
   "metadata": {},
   "source": [
    "## Part 2\n",
    "\n",
    "The Elves in accounting are thankful for your help; one of them even offers you a starfish coin they had left over from a past vacation. They offer you a second one if you can find three numbers in your expense report that meet the same criteria.\n",
    "\n",
    "Using the above example again, the three entries that sum to 2020 are `979`, `366`, and `675`. Multiplying them together produces the answer, `241861950`.\n",
    "\n",
    "In your expense report, what is the product of the three entries that sum to 2020?"
   ]
  },
  {
   "cell_type": "code",
   "execution_count": 4,
   "metadata": {},
   "outputs": [],
   "source": [
    "# Reset the pointer\n",
    "pointer = 0\n",
    "\n",
    "def sum_finder_three(pointer_1):\n",
    "    \n",
    "    result = False\n",
    "    pointer_2 = pointer_1 + 1\n",
    "    \n",
    "    while pointer_2 != len(data):\n",
    "        \n",
    "        # Establish starting point for scan\n",
    "        starting_point = pointer_2 + 1\n",
    "    \n",
    "        for i in range(starting_point, len(data)):\n",
    "\n",
    "            if data[pointer_1] + data[pointer_2] + data[i] == 2020:\n",
    "                return data[pointer_1], data[pointer_2], data[i]\n",
    "        \n",
    "        # Iterate pointer 2\n",
    "        pointer_2 = pointer_2 + 1\n",
    "        \n",
    "    \n",
    "    pointer_1 = pointer_1 + 1\n",
    "    \n",
    "    return sum_finder_three(pointer_1)\n",
    "\n",
    "result = sum_finder_three(pointer)"
   ]
  },
  {
   "cell_type": "code",
   "execution_count": 5,
   "metadata": {},
   "outputs": [
    {
     "data": {
      "text/plain": [
       "253928438"
      ]
     },
     "execution_count": 5,
     "metadata": {},
     "output_type": "execute_result"
    }
   ],
   "source": [
    "prod(result) # Answer"
   ]
  },
  {
   "cell_type": "code",
   "execution_count": null,
   "metadata": {},
   "outputs": [],
   "source": []
  }
 ],
 "metadata": {
  "kernelspec": {
   "display_name": "Python 3",
   "language": "python",
   "name": "python3"
  },
  "language_info": {
   "codemirror_mode": {
    "name": "ipython",
    "version": 3
   },
   "file_extension": ".py",
   "mimetype": "text/x-python",
   "name": "python",
   "nbconvert_exporter": "python",
   "pygments_lexer": "ipython3",
   "version": "3.7.4"
  }
 },
 "nbformat": 4,
 "nbformat_minor": 2
}
