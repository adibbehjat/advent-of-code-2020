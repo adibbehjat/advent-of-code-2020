{
 "cells": [
  {
   "cell_type": "markdown",
   "metadata": {},
   "source": [
    "# Day 2\n",
    "## Part 1\n",
    "\n",
    "The shopkeeper at the North Pole Toboggan Rental Shop is having a bad day. \"Something's wrong with our computers; we can't log in!\" You ask if you can take a look.\n",
    "\n",
    "Their password database seems to be a little corrupted: some of the passwords wouldn't have been allowed by the Official Toboggan Corporate Policy that was in effect when they were chosen.\n",
    "\n",
    "To try to debug the problem, they have created a list (your puzzle input) of passwords (according to the corrupted database) and the corporate policy when that password was set.\n",
    "\n",
    "For example, suppose you have the following list:\n",
    "\n",
    "```\n",
    "1-3 a: abcde\n",
    "1-3 b: cdefg\n",
    "2-9 c: ccccccccc\n",
    "```\n",
    "\n",
    "Each line gives the password policy and then the password. The password policy indicates the lowest and highest number of times a given letter must appear for the password to be valid. For example, `1-3 a` means that the password must contain `a` at least `1` time and at most `3` times.\n",
    "\n",
    "In the above example, 2 passwords are valid. The middle password, `cdefg`, is not; it contains no instances of b, but needs at least 1. The first and third passwords are valid: they contain one a or nine c, both within the limits of their respective policies.\n",
    "\n",
    "How many passwords are valid according to their policies?"
   ]
  },
  {
   "cell_type": "code",
   "execution_count": 1,
   "metadata": {},
   "outputs": [],
   "source": [
    "# import regex for parsing\n",
    "import re\n",
    "\n",
    "# Pull the data into python\n",
    "with open('inputs/day_2.txt') as reader:\n",
    "    data = [i.rstrip('\\n') for i in reader]"
   ]
  },
  {
   "cell_type": "code",
   "execution_count": 2,
   "metadata": {},
   "outputs": [],
   "source": [
    "pattern = re.compile(\"(\\d+)-(\\d+) (\\w): ([^ ].+)\")\n",
    "\n",
    "def password_validator(password_log, pattern):\n",
    "    \n",
    "    # Search and parse the pattern\n",
    "    p = pattern.search(password_log)\n",
    "    \n",
    "    # Group position description\n",
    "    # Pos 1 = Min character instances\n",
    "    # Pos 2 = Max character instances\n",
    "    # Pos 3 = Character\n",
    "    # Pos 4 = Target to count instances from\n",
    "    \n",
    "    min_inst  = int(p[1])\n",
    "    max_inst  = int(p[2])\n",
    "    instances = p[4].count(p[3])\n",
    "    if min_inst <= instances and max_inst >= instances:\n",
    "        return True\n",
    "    else:\n",
    "        return False"
   ]
  },
  {
   "cell_type": "code",
   "execution_count": 3,
   "metadata": {},
   "outputs": [
    {
     "data": {
      "text/plain": [
       "515"
      ]
     },
     "execution_count": 3,
     "metadata": {},
     "output_type": "execute_result"
    }
   ],
   "source": [
    "# Map each password to the validator, and output a list of binary data. i.e. [True, False, False, ...etc]\n",
    "result = list(map(lambda x: password_validator(x, pattern),data))\n",
    "\n",
    "# Python's sum function can sum all True values as 1 and False as 0\n",
    "sum(result) # Answer"
   ]
  },
  {
   "cell_type": "markdown",
   "metadata": {},
   "source": [
    "## Part 2\n",
    "\n",
    "While it appears you validated the passwords correctly, they don't seem to be what the Official Toboggan Corporate Authentication System is expecting.\n",
    "\n",
    "The shopkeeper suddenly realizes that he just accidentally explained the password policy rules from his old job at the sled rental place down the street! The Official Toboggan Corporate Policy actually works a little differently.\n",
    "\n",
    "Each policy actually describes two positions in the password, where 1 means the first character, 2 means the second character, and so on. (Be careful; Toboggan Corporate Policies have no concept of \"index zero\"!) Exactly one of these positions must contain the given letter. Other occurrences of the letter are irrelevant for the purposes of policy enforcement.\n",
    "\n",
    "Given the same example list from above:\n",
    "\n",
    "* `1-3 a: abcde` is **valid**: position 1 contains a and position 3 does not.\n",
    "* `1-3 b: cdefg` is **invalid**: neither position 1 nor position 3 contains b.\n",
    "* `2-9 c: ccccccccc` is **invalid**: both position 2 and position 9 contain c.\n",
    "\n",
    "How many passwords are valid according to the new interpretation of the policies?"
   ]
  },
  {
   "cell_type": "code",
   "execution_count": 4,
   "metadata": {},
   "outputs": [],
   "source": [
    "def password_validator_new(password_log,pattern):\n",
    "    \n",
    "    # Search and parse the pattern\n",
    "    p = pattern.search(password_log)\n",
    "    \n",
    "    # Group position description\n",
    "    # Pos 1 = Valid first position\n",
    "    # Pos 2 = Valid second position\n",
    "    # Pos 3 = Character\n",
    "    # Pos 4 = Target to identify location\n",
    "    \n",
    "    adj_min = int(p[1])-1 # Adjusted for array processing\n",
    "    adj_max = int(p[2])-1 # Adjusted for array processing\n",
    "    character = p[3]\n",
    "    target = p[4]\n",
    "    \n",
    "    return bool(target[adj_min] == character) ^ bool(target[adj_max] == character)"
   ]
  },
  {
   "cell_type": "code",
   "execution_count": 5,
   "metadata": {},
   "outputs": [
    {
     "data": {
      "text/plain": [
       "711"
      ]
     },
     "execution_count": 5,
     "metadata": {},
     "output_type": "execute_result"
    }
   ],
   "source": [
    "# Map to new password validator\n",
    "result = list(map(lambda x: password_validator_new(x, pattern),data))\n",
    "\n",
    "sum(result) # Answer"
   ]
  },
  {
   "cell_type": "code",
   "execution_count": null,
   "metadata": {},
   "outputs": [],
   "source": []
  }
 ],
 "metadata": {
  "kernelspec": {
   "display_name": "Python 3",
   "language": "python",
   "name": "python3"
  },
  "language_info": {
   "codemirror_mode": {
    "name": "ipython",
    "version": 3
   },
   "file_extension": ".py",
   "mimetype": "text/x-python",
   "name": "python",
   "nbconvert_exporter": "python",
   "pygments_lexer": "ipython3",
   "version": "3.7.4"
  }
 },
 "nbformat": 4,
 "nbformat_minor": 2
}
