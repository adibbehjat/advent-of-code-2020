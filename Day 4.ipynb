{
 "cells": [
  {
   "cell_type": "code",
   "execution_count": 1,
   "metadata": {},
   "outputs": [],
   "source": [
    "%%HTML\n",
    "<style>\n",
    "\n",
    "/* To make it easier to read the pre and code components */\n",
    "\n",
    ".rendered_html pre {\n",
    "    background-color : #fffddd !important;\n",
    "}\n",
    "\n",
    ".rendered_html pre code {\n",
    "    background-color: transparent !important;\n",
    "}\n",
    "</style>"
   ]
  },
  {
   "cell_type": "markdown",
   "metadata": {},
   "source": [
    "# Day 4\n",
    "\n",
    "## Part 1\n",
    "\n",
    "You arrive at the airport only to realize that you grabbed your North Pole Credentials instead of your passport. While these documents are extremely similar, North Pole Credentials aren't issued by a country and therefore aren't actually valid documentation for travel in most of the world.\n",
    "\n",
    "It seems like you're not the only one having problems, though; a very long line has formed for the automatic passport scanners, and the delay could upset your travel itinerary.\n",
    "\n",
    "Due to some questionable network security, you realize you might be able to solve both of these problems at the same time.\n",
    "\n",
    "The automatic passport scanners are slow because they're having trouble detecting which passports have all required fields. The expected fields are as follows:\n",
    "```\n",
    "byr (Birth Year)\n",
    "iyr (Issue Year)\n",
    "eyr (Expiration Year)\n",
    "hgt (Height)\n",
    "hcl (Hair Color)\n",
    "ecl (Eye Color)\n",
    "pid (Passport ID)\n",
    "cid (Country ID)\n",
    "```\n",
    "\n",
    "Passport data is validated in batch files (your puzzle input). Each passport is represented as a sequence of key:value pairs separated by spaces or newlines. Passports are separated by blank lines.\n",
    "\n",
    "Here is an example batch file containing four passports:\n",
    "```\n",
    "ecl:gry pid:860033327 eyr:2020 hcl:#fffffd\n",
    "byr:1937 iyr:2017 cid:147 hgt:183cm\n",
    "\n",
    "iyr:2013 ecl:amb cid:350 eyr:2023 pid:028048884\n",
    "hcl:#cfa07d byr:1929\n",
    "\n",
    "hcl:#ae17e1 iyr:2013\n",
    "eyr:2024\n",
    "ecl:brn pid:760753108 byr:1931\n",
    "hgt:179cm\n",
    "\n",
    "hcl:#cfa07d eyr:2025 pid:166559648\n",
    "iyr:2011 ecl:brn hgt:59in\n",
    "```\n",
    "\n",
    "The first passport is valid - all eight fields are present. The second passport is invalid - it is missing `hgt` (the Height field).\n",
    "\n",
    "The third passport is interesting; the only missing field is `cid`, so it looks like data from North Pole Credentials, not a passport at all! Surely, nobody would mind if you made the system temporarily ignore missing `cid` fields. Treat this \"passport\" as valid.\n",
    "\n",
    "The fourth passport is missing two fields, `cid` and `byr`. Missing `cid` is fine, but missing any other field is not, so this passport is invalid.\n",
    "\n",
    "According to the above rules, your improved system would report 2 valid passports.\n",
    "\n",
    "Count the number of valid passports - those that have all required fields. Treat `cid` as optional.\n",
    "\n",
    "In your batch file, how many passports are valid?"
   ]
  },
  {
   "cell_type": "code",
   "execution_count": 2,
   "metadata": {},
   "outputs": [],
   "source": [
    "# Pull the data into python\n",
    "with open('inputs/day_4.txt') as reader:\n",
    "    \n",
    "    # Group the content by the two new lines\n",
    "    data = [i.replace('\\n',' ') for i in reader.read().split('\\n\\n')]\n",
    "    data = [i.split() for i in data]\n",
    "    \n",
    "    # Create a list of dictionaries\n",
    "    data_dict = list()\n",
    "    \n",
    "    for record in data:\n",
    "        \n",
    "        record_dict = dict()\n",
    "        \n",
    "        for info in record:\n",
    "            \n",
    "            item = info.split(\":\")\n",
    "            record_dict[item[0]] = item[1]\n",
    "            \n",
    "        data_dict.append(record_dict)"
   ]
  },
  {
   "cell_type": "code",
   "execution_count": 3,
   "metadata": {},
   "outputs": [],
   "source": [
    "# Thanks to list of dictionaries, we can use pandas!\n",
    "import pandas as pd\n",
    "\n",
    "df = pd.DataFrame(data_dict)"
   ]
  },
  {
   "cell_type": "code",
   "execution_count": 4,
   "metadata": {},
   "outputs": [
    {
     "data": {
      "text/html": [
       "<div>\n",
       "<style scoped>\n",
       "    .dataframe tbody tr th:only-of-type {\n",
       "        vertical-align: middle;\n",
       "    }\n",
       "\n",
       "    .dataframe tbody tr th {\n",
       "        vertical-align: top;\n",
       "    }\n",
       "\n",
       "    .dataframe thead th {\n",
       "        text-align: right;\n",
       "    }\n",
       "</style>\n",
       "<table border=\"1\" class=\"dataframe\">\n",
       "  <thead>\n",
       "    <tr style=\"text-align: right;\">\n",
       "      <th></th>\n",
       "      <th>ecl</th>\n",
       "      <th>pid</th>\n",
       "      <th>byr</th>\n",
       "      <th>iyr</th>\n",
       "      <th>hgt</th>\n",
       "      <th>hcl</th>\n",
       "      <th>eyr</th>\n",
       "      <th>cid</th>\n",
       "    </tr>\n",
       "  </thead>\n",
       "  <tbody>\n",
       "    <tr>\n",
       "      <th>0</th>\n",
       "      <td>amb</td>\n",
       "      <td>690616023</td>\n",
       "      <td>1994</td>\n",
       "      <td>2014</td>\n",
       "      <td>172cm</td>\n",
       "      <td>#c0946f</td>\n",
       "      <td>2022</td>\n",
       "      <td>NaN</td>\n",
       "    </tr>\n",
       "    <tr>\n",
       "      <th>1</th>\n",
       "      <td>#102145</td>\n",
       "      <td>187cm</td>\n",
       "      <td>1945</td>\n",
       "      <td>2011</td>\n",
       "      <td>179in</td>\n",
       "      <td>z</td>\n",
       "      <td>1980</td>\n",
       "      <td>97</td>\n",
       "    </tr>\n",
       "    <tr>\n",
       "      <th>2</th>\n",
       "      <td>amb</td>\n",
       "      <td>004682943</td>\n",
       "      <td>1940</td>\n",
       "      <td>2011</td>\n",
       "      <td>173cm</td>\n",
       "      <td>#b6652a</td>\n",
       "      <td>2021</td>\n",
       "      <td>113</td>\n",
       "    </tr>\n",
       "    <tr>\n",
       "      <th>3</th>\n",
       "      <td>dne</td>\n",
       "      <td>NaN</td>\n",
       "      <td>2022</td>\n",
       "      <td>2023</td>\n",
       "      <td>76in</td>\n",
       "      <td>z</td>\n",
       "      <td>2040</td>\n",
       "      <td>146</td>\n",
       "    </tr>\n",
       "    <tr>\n",
       "      <th>4</th>\n",
       "      <td>blu</td>\n",
       "      <td>673398662</td>\n",
       "      <td>1929</td>\n",
       "      <td>2013</td>\n",
       "      <td>157cm</td>\n",
       "      <td>#f97e30</td>\n",
       "      <td>2024</td>\n",
       "      <td>73</td>\n",
       "    </tr>\n",
       "    <tr>\n",
       "      <th>...</th>\n",
       "      <td>...</td>\n",
       "      <td>...</td>\n",
       "      <td>...</td>\n",
       "      <td>...</td>\n",
       "      <td>...</td>\n",
       "      <td>...</td>\n",
       "      <td>...</td>\n",
       "      <td>...</td>\n",
       "    </tr>\n",
       "    <tr>\n",
       "      <th>248</th>\n",
       "      <td>utc</td>\n",
       "      <td>#097d1b</td>\n",
       "      <td>2025</td>\n",
       "      <td>2020</td>\n",
       "      <td>69cm</td>\n",
       "      <td>73d113</td>\n",
       "      <td>2029</td>\n",
       "      <td>NaN</td>\n",
       "    </tr>\n",
       "    <tr>\n",
       "      <th>249</th>\n",
       "      <td>amb</td>\n",
       "      <td>NaN</td>\n",
       "      <td>1930</td>\n",
       "      <td>2018</td>\n",
       "      <td>170cm</td>\n",
       "      <td>#733820</td>\n",
       "      <td>2025</td>\n",
       "      <td>262</td>\n",
       "    </tr>\n",
       "    <tr>\n",
       "      <th>250</th>\n",
       "      <td>oth</td>\n",
       "      <td>258615618</td>\n",
       "      <td>1987</td>\n",
       "      <td>2019</td>\n",
       "      <td>178cm</td>\n",
       "      <td>#efcc98</td>\n",
       "      <td>2021</td>\n",
       "      <td>65</td>\n",
       "    </tr>\n",
       "    <tr>\n",
       "      <th>251</th>\n",
       "      <td>#1c5fd1</td>\n",
       "      <td>#c69fd5</td>\n",
       "      <td>2014</td>\n",
       "      <td>2020</td>\n",
       "      <td>65cm</td>\n",
       "      <td>z</td>\n",
       "      <td>1980</td>\n",
       "      <td>222</td>\n",
       "    </tr>\n",
       "    <tr>\n",
       "      <th>252</th>\n",
       "      <td>#20e25f</td>\n",
       "      <td>#4b8380</td>\n",
       "      <td>2024</td>\n",
       "      <td>1945</td>\n",
       "      <td>159cm</td>\n",
       "      <td>80fab0</td>\n",
       "      <td>1935</td>\n",
       "      <td>271</td>\n",
       "    </tr>\n",
       "  </tbody>\n",
       "</table>\n",
       "<p>253 rows × 8 columns</p>\n",
       "</div>"
      ],
      "text/plain": [
       "         ecl        pid   byr   iyr    hgt      hcl   eyr  cid\n",
       "0        amb  690616023  1994  2014  172cm  #c0946f  2022  NaN\n",
       "1    #102145      187cm  1945  2011  179in        z  1980   97\n",
       "2        amb  004682943  1940  2011  173cm  #b6652a  2021  113\n",
       "3        dne        NaN  2022  2023   76in        z  2040  146\n",
       "4        blu  673398662  1929  2013  157cm  #f97e30  2024   73\n",
       "..       ...        ...   ...   ...    ...      ...   ...  ...\n",
       "248      utc    #097d1b  2025  2020   69cm   73d113  2029  NaN\n",
       "249      amb        NaN  1930  2018  170cm  #733820  2025  262\n",
       "250      oth  258615618  1987  2019  178cm  #efcc98  2021   65\n",
       "251  #1c5fd1    #c69fd5  2014  2020   65cm        z  1980  222\n",
       "252  #20e25f    #4b8380  2024  1945  159cm   80fab0  1935  271\n",
       "\n",
       "[253 rows x 8 columns]"
      ]
     },
     "execution_count": 4,
     "metadata": {},
     "output_type": "execute_result"
    }
   ],
   "source": [
    "df"
   ]
  },
  {
   "cell_type": "code",
   "execution_count": 5,
   "metadata": {},
   "outputs": [
    {
     "data": {
      "text/plain": [
       "170"
      ]
     },
     "execution_count": 5,
     "metadata": {},
     "output_type": "execute_result"
    }
   ],
   "source": [
    "# Now we can check whether the required rows are NaN (empty) or not\n",
    "\n",
    "required_columns = [\"byr\",\"iyr\",\"eyr\",\"hgt\",\"hcl\",\"ecl\",\"pid\"]\n",
    "\n",
    "# Count the number of rows that have no column with NaN\n",
    "df_check = df[required_columns].dropna()\n",
    "df_check.shape[0] # Answer"
   ]
  },
  {
   "cell_type": "markdown",
   "metadata": {},
   "source": [
    "## Part 2\n",
    "\n",
    "The line is moving more quickly now, but you overhear airport security talking about how passports with invalid data are getting through. Better add some data validation, quick!\n",
    "\n",
    "You can continue to ignore the cid field, but each other field has strict rules about what values are valid for automatic validation:\n",
    "\n",
    "```\n",
    "byr (Birth Year) - four digits; at least 1920 and at most 2002.\n",
    "iyr (Issue Year) - four digits; at least 2010 and at most 2020.\n",
    "eyr (Expiration Year) - four digits; at least 2020 and at most 2030.\n",
    "hgt (Height) - a number followed by either cm or in:\n",
    "If cm, the number must be at least 150 and at most 193.\n",
    "If in, the number must be at least 59 and at most 76.\n",
    "hcl (Hair Color) - a # followed by exactly six characters 0-9 or a-f.\n",
    "ecl (Eye Color) - exactly one of: amb blu brn gry grn hzl oth.\n",
    "pid (Passport ID) - a nine-digit number, including leading zeroes.\n",
    "cid (Country ID) - ignored, missing or not.\n",
    "```\n",
    "\n",
    "Your job is to count the passports where all required fields are both present and valid according to the above rules. Here are some example values:\n",
    "\n",
    "```\n",
    "byr valid:   2002\n",
    "byr invalid: 2003\n",
    "\n",
    "hgt valid:   60in\n",
    "hgt valid:   190cm\n",
    "hgt invalid: 190in\n",
    "hgt invalid: 190\n",
    "\n",
    "hcl valid:   #123abc\n",
    "hcl invalid: #123abz\n",
    "hcl invalid: 123abc\n",
    "\n",
    "ecl valid:   brn\n",
    "ecl invalid: wat\n",
    "\n",
    "pid valid:   000000001\n",
    "pid invalid: 0123456789\n",
    "```\n",
    "\n",
    "Here are some invalid passports:\n",
    "\n",
    "```\n",
    "eyr:1972 cid:100\n",
    "hcl:#18171d ecl:amb hgt:170 pid:186cm iyr:2018 byr:1926\n",
    "\n",
    "iyr:2019\n",
    "hcl:#602927 eyr:1967 hgt:170cm\n",
    "ecl:grn pid:012533040 byr:1946\n",
    "\n",
    "hcl:dab227 iyr:2012\n",
    "ecl:brn hgt:182cm pid:021572410 eyr:2020 byr:1992 cid:277\n",
    "\n",
    "hgt:59cm ecl:zzz\n",
    "eyr:2038 hcl:74454a iyr:2023\n",
    "pid:3556412378 byr:2007\n",
    "Here are some valid passports:\n",
    "\n",
    "pid:087499704 hgt:74in ecl:grn iyr:2012 eyr:2030 byr:1980\n",
    "hcl:#623a2f\n",
    "\n",
    "eyr:2029 ecl:blu cid:129 byr:1989\n",
    "iyr:2014 pid:896056539 hcl:#a97842 hgt:165cm\n",
    "\n",
    "hcl:#888785\n",
    "hgt:164cm byr:2001 iyr:2015 cid:88\n",
    "pid:545766238 ecl:hzl\n",
    "eyr:2022\n",
    "\n",
    "iyr:2010 hgt:158cm hcl:#b6652a ecl:blu byr:1944 eyr:2021 pid:093154719\n",
    "```\n",
    "\n",
    "Count the number of **valid passports** - those that have all required fields and valid values. Continue to treat cid as optional. In your batch file, how many passports are valid?"
   ]
  },
  {
   "cell_type": "code",
   "execution_count": 6,
   "metadata": {},
   "outputs": [
    {
     "data": {
      "text/plain": [
       "byr    object\n",
       "iyr    object\n",
       "eyr    object\n",
       "hgt    object\n",
       "hcl    object\n",
       "ecl    object\n",
       "pid    object\n",
       "dtype: object"
      ]
     },
     "execution_count": 6,
     "metadata": {},
     "output_type": "execute_result"
    }
   ],
   "source": [
    "# Now that we have our dataframe setup, this process is far easier as we simply need to build validators\n",
    "# We may need to check the type of each column to see if we can run some numerical logic\n",
    "\n",
    "df_check.dtypes"
   ]
  },
  {
   "cell_type": "code",
   "execution_count": 7,
   "metadata": {},
   "outputs": [
    {
     "data": {
      "text/plain": [
       "byr     int64\n",
       "iyr     int64\n",
       "eyr     int64\n",
       "hgt    object\n",
       "hcl    object\n",
       "ecl    object\n",
       "pid    object\n",
       "dtype: object"
      ]
     },
     "execution_count": 7,
     "metadata": {},
     "output_type": "execute_result"
    }
   ],
   "source": [
    "# Let's modify low hanging fruits using dictionary to convert specific columns \n",
    "update_to_int = {\n",
    "    'byr': int, \n",
    "    'iyr': int,\n",
    "    'eyr': int,\n",
    "}\n",
    "\n",
    "df_check = df_check.astype(update_to_int)\n",
    "df_check.dtypes"
   ]
  },
  {
   "cell_type": "markdown",
   "metadata": {},
   "source": [
    "## Validating each requirement\n",
    "The lowest hanging fruits are those that are of the data type int, so we'll begin with those"
   ]
  },
  {
   "cell_type": "markdown",
   "metadata": {},
   "source": [
    "### Validate Birth Year"
   ]
  },
  {
   "cell_type": "code",
   "execution_count": 8,
   "metadata": {},
   "outputs": [
    {
     "data": {
      "text/plain": [
       "(136, 7)"
      ]
     },
     "execution_count": 8,
     "metadata": {},
     "output_type": "execute_result"
    }
   ],
   "source": [
    "# byr (Birth Year) - four digits; at least 1920 and at most 2002.\n",
    "df_check = df_check[(df_check['byr'] >= 1920) & (df_check['byr'] <= 2002)]\n",
    "df_check.shape"
   ]
  },
  {
   "cell_type": "code",
   "execution_count": 9,
   "metadata": {},
   "outputs": [
    {
     "data": {
      "text/plain": [
       "count     136.000000\n",
       "mean     1963.132353\n",
       "std        24.868188\n",
       "min      1920.000000\n",
       "25%      1942.000000\n",
       "50%      1965.500000\n",
       "75%      1985.250000\n",
       "max      2002.000000\n",
       "Name: byr, dtype: float64"
      ]
     },
     "execution_count": 9,
     "metadata": {},
     "output_type": "execute_result"
    }
   ],
   "source": [
    "# Check if we're doing this correctly!\n",
    "df_check['byr'].describe() # Our Min and Max should meet the goals of the problem"
   ]
  },
  {
   "cell_type": "markdown",
   "metadata": {},
   "source": [
    "### Validate Issue Year"
   ]
  },
  {
   "cell_type": "code",
   "execution_count": 10,
   "metadata": {},
   "outputs": [
    {
     "data": {
      "text/plain": [
       "(122, 7)"
      ]
     },
     "execution_count": 10,
     "metadata": {},
     "output_type": "execute_result"
    }
   ],
   "source": [
    "# iyr (Issue Year) - four digits; at least 2010 and at most 2020.\n",
    "df_check = df_check[(df_check['iyr'] >= 2010) & (df_check['iyr'] <= 2020)]\n",
    "df_check.shape"
   ]
  },
  {
   "cell_type": "markdown",
   "metadata": {},
   "source": [
    "### Validate Expiration Year"
   ]
  },
  {
   "cell_type": "code",
   "execution_count": 11,
   "metadata": {},
   "outputs": [
    {
     "data": {
      "text/plain": [
       "(115, 7)"
      ]
     },
     "execution_count": 11,
     "metadata": {},
     "output_type": "execute_result"
    }
   ],
   "source": [
    "# eyr (Expiration Year) - four digits; at least 2020 and at most 2030.\n",
    "df_check = df_check[(df_check['eyr'] >= 2020) & (df_check['eyr'] <= 2030)]\n",
    "df_check.shape"
   ]
  },
  {
   "cell_type": "markdown",
   "metadata": {},
   "source": [
    "### Validate Hair Color"
   ]
  },
  {
   "cell_type": "code",
   "execution_count": 12,
   "metadata": {},
   "outputs": [],
   "source": [
    "# Let's bring the regex badboy to solve the more complex ones\n",
    "import re"
   ]
  },
  {
   "cell_type": "code",
   "execution_count": 13,
   "metadata": {},
   "outputs": [
    {
     "data": {
      "text/plain": [
       "(113, 7)"
      ]
     },
     "execution_count": 13,
     "metadata": {},
     "output_type": "execute_result"
    }
   ],
   "source": [
    "# hcl (Hair Color) - a # followed by exactly six characters 0-9 or a-f.\n",
    "hcl_regex = '^#[0-9a-f]{6}$'\n",
    "df_check = df_check[df_check['hcl'].str.contains(hcl_regex)]\n",
    "df_check.shape"
   ]
  },
  {
   "cell_type": "markdown",
   "metadata": {},
   "source": [
    "### Validate Passport ID"
   ]
  },
  {
   "cell_type": "code",
   "execution_count": 14,
   "metadata": {},
   "outputs": [
    {
     "data": {
      "text/plain": [
       "(108, 7)"
      ]
     },
     "execution_count": 14,
     "metadata": {},
     "output_type": "execute_result"
    }
   ],
   "source": [
    "# pid (Passport ID) - a nine-digit number, including leading zeroes.\n",
    "pid_regex = '^\\d{9}$'\n",
    "df_check = df_check[df_check['pid'].str.contains(pid_regex)]\n",
    "df_check.shape"
   ]
  },
  {
   "cell_type": "markdown",
   "metadata": {},
   "source": [
    "### Validate Eye Color"
   ]
  },
  {
   "cell_type": "code",
   "execution_count": 15,
   "metadata": {},
   "outputs": [
    {
     "data": {
      "text/plain": [
       "(106, 7)"
      ]
     },
     "execution_count": 15,
     "metadata": {},
     "output_type": "execute_result"
    }
   ],
   "source": [
    "# ecl (Eye Color) - exactly one of: amb blu brn gry grn hzl oth.\n",
    "valid_eye_colors = \"amb blu brn gry grn hzl oth\".split(\" \")\n",
    "df_check = df_check[df_check['ecl'].isin(valid_eye_colors)]\n",
    "df_check.shape"
   ]
  },
  {
   "cell_type": "markdown",
   "metadata": {},
   "source": [
    "### Validate Height"
   ]
  },
  {
   "cell_type": "code",
   "execution_count": 16,
   "metadata": {},
   "outputs": [
    {
     "data": {
      "text/plain": [
       "(103, 7)"
      ]
     },
     "execution_count": 16,
     "metadata": {},
     "output_type": "execute_result"
    }
   ],
   "source": [
    "\"\"\"\n",
    "hgt (Height) - a number followed by either cm or in:\n",
    "If cm, the number must be at least 150 and at most 193.\n",
    "If in, the number must be at least 59 and at most 76.\n",
    "\"\"\"\n",
    "\n",
    "def validate_height(cell):\n",
    "    \n",
    "    hgt_regex = r\"^(?:\\d{3}cm|\\d{2}in)$\"\n",
    "    \n",
    "    # Check if cell matches initial condition\n",
    "    if re.match(hgt_regex, cell):\n",
    "        \n",
    "        # Check if inches or cm, and measure based on those conditions\n",
    "        height = int(cell[:-2])\n",
    "        \n",
    "        if \"in\" in cell:\n",
    "            if height >= 59 and height <= 76:\n",
    "                return True\n",
    "        else:\n",
    "            if height >= 150 and height <= 193:\n",
    "                return True\n",
    "        \n",
    "    return False\n",
    "    \n",
    "    \n",
    "df_check = df_check[df_check['hgt'].apply(lambda x: validate_height(x))]\n",
    "df_check.shape # Answer"
   ]
  }
 ],
 "metadata": {
  "kernelspec": {
   "display_name": "Python 3",
   "language": "python",
   "name": "python3"
  },
  "language_info": {
   "codemirror_mode": {
    "name": "ipython",
    "version": 3
   },
   "file_extension": ".py",
   "mimetype": "text/x-python",
   "name": "python",
   "nbconvert_exporter": "python",
   "pygments_lexer": "ipython3",
   "version": "3.7.9"
  }
 },
 "nbformat": 4,
 "nbformat_minor": 2
}
