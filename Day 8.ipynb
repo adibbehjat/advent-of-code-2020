{
 "cells": [
  {
   "cell_type": "markdown",
   "metadata": {},
   "source": [
    "# Day 8\n",
    "## Part 1\n",
    "\n",
    "Your flight to the major airline hub reaches cruising altitude without incident. While you consider checking the in-flight menu for one of those drinks that come with a little umbrella, you are interrupted by the kid sitting next to you.\n",
    "\n",
    "Their handheld game console won't turn on! They ask if you can take a look.\n",
    "\n",
    "You narrow the problem down to a strange infinite loop in the boot code (your puzzle input) of the device. You should be able to fix it, but first you need to be able to run the code in isolation.\n",
    "\n",
    "The boot code is represented as a text file with one instruction per line of text. Each instruction consists of an operation (`acc`, `jmp`, or `nop`) and an argument (a signed number like `+4` or `-20`).\n",
    "\n",
    "* `acc`: increases or decreases a single global value called the accumulator by the value given in the argument. For example, acc +7 would increase the accumulator by 7. The accumulator starts at 0. After an acc instruction, the instruction immediately below it is executed next.\n",
    "\n",
    "* `jmp` jumps to a new instruction relative to itself. The next instruction to execute is found using the argument as an offset from the jmp instruction; for example, jmp +2 would skip the next instruction, jmp +1 would continue to the instruction immediately below it, and jmp -20 would cause the instruction 20 lines above to be executed next.\n",
    "\n",
    "* `nop` stands for No OPeration - it does nothing. The instruction immediately below it is executed next.\n",
    "\n",
    "For example, consider the following program:\n",
    "\n",
    "```\n",
    "nop +0\n",
    "acc +1\n",
    "jmp +4\n",
    "acc +3\n",
    "jmp -3\n",
    "acc -99\n",
    "acc +1\n",
    "jmp -4\n",
    "acc +6\n",
    "```\n",
    "\n",
    "These instructions are visited in this order:\n",
    "\n",
    "```\n",
    "nop +0  | 1\n",
    "acc +1  | 2, 8(!)\n",
    "jmp +4  | 3\n",
    "acc +3  | 6\n",
    "jmp -3  | 7\n",
    "acc -99 |\n",
    "acc +1  | 4\n",
    "jmp -4  | 5\n",
    "acc +6  |\n",
    "```\n",
    "\n",
    "First, the nop +0 does nothing. Then, the accumulator is increased from 0 to 1 (acc +1) and jmp +4 sets the next instruction to the other acc +1 near the bottom. After it increases the accumulator from 1 to 2, jmp -4 executes, setting the next instruction to the only acc +3. It sets the accumulator to 5, and jmp -3 causes the program to continue back at the first acc +1.\n",
    "\n",
    "This is an infinite loop: with this sequence of jumps, the program will run forever. The moment the program tries to run any instruction a second time, you know it will never terminate.\n",
    "\n",
    "Immediately before the program would run an instruction a second time, the value in the accumulator is 5.\n",
    "\n",
    "Run your copy of the boot code. Immediately before any instruction is executed a second time, what value is in the accumulator?"
   ]
  },
  {
   "cell_type": "markdown",
   "metadata": {},
   "source": [
    "***"
   ]
  },
  {
   "cell_type": "markdown",
   "metadata": {},
   "source": [
    "### Notes\n",
    "This is an interesting problem as it requires that each command runs once and only once. The reason is that the sequence of instructions (excluding the jumps) move top-down. Therefore, if a pointer returns to a command it has already ran before, then it'll most likely repeat the steps again.\n",
    "\n",
    "We have the advantage of arrays and regex to solve this problem quickly and efficiently."
   ]
  },
  {
   "cell_type": "code",
   "execution_count": 1,
   "metadata": {},
   "outputs": [
    {
     "data": {
      "text/plain": [
       "[['jmp', 336], ['jmp', 593], ['jmp', 121]]"
      ]
     },
     "execution_count": 1,
     "metadata": {},
     "output_type": "execute_result"
    }
   ],
   "source": [
    "import re\n",
    "\n",
    "instructions = list()\n",
    "\n",
    "## Function to clean data\n",
    "def parse_data(data):\n",
    "    re_parser = r'(\\w{3}) (\\+\\d+|\\-\\d+)'\n",
    "    output = re.match(re_parser,data)\n",
    "    return [output[1],int(output[2])]\n",
    "    \n",
    "\n",
    "## Open file and transform data into a list of lists\n",
    "with open('inputs/day_8.txt') as reader:\n",
    "    \n",
    "    for instruction in reader:\n",
    "        instructions.append(parse_data(instruction))\n",
    "    \n",
    "instructions[:3] # Sample"
   ]
  },
  {
   "cell_type": "code",
   "execution_count": 2,
   "metadata": {},
   "outputs": [
    {
     "data": {
      "text/plain": [
       "[['nop', 0], ['acc', 1], ['jmp', 4]]"
      ]
     },
     "execution_count": 2,
     "metadata": {},
     "output_type": "execute_result"
    }
   ],
   "source": [
    "# Let's also use the example data\n",
    "sample_instructions = \"\"\"nop +0\n",
    "acc +1\n",
    "jmp +4\n",
    "acc +3\n",
    "jmp -3\n",
    "acc -99\n",
    "acc +1\n",
    "jmp -4\n",
    "acc +6\"\"\".split(\"\\n\")\n",
    "\n",
    "sample_instructions = [parse_data(s) for s in sample_instructions]\n",
    "sample_instructions[:3]"
   ]
  },
  {
   "cell_type": "code",
   "execution_count": 3,
   "metadata": {},
   "outputs": [],
   "source": [
    "def instruction_parser(command, index, accumulator):\n",
    "    \n",
    "    command_typ = command[0]\n",
    "    command_val = command[1]\n",
    "    \n",
    "    # Command manager\n",
    "    if command_typ == \"acc\":\n",
    "        return index + 1, command_val + accumulator\n",
    "    \n",
    "    elif command_typ == \"nop\":\n",
    "        return index + 1, accumulator\n",
    "    \n",
    "    elif command_typ == \"jmp\":\n",
    "        return index + command_val, accumulator\n",
    "    else:\n",
    "        return None, None\n",
    "\n",
    "\n",
    "# Build the infinite loop finder\n",
    "def infinite_finder(instructions):\n",
    "    \n",
    "    ## Initial Definition\n",
    "    # A list that checks which indexes were already called\n",
    "    instruction_tracker = []\n",
    "    \n",
    "    # Collects the accumulator value before the infinite call is made\n",
    "    accumulator = 0\n",
    "    \n",
    "    # A flag to initiate a loop\n",
    "    run_program = True\n",
    "    \n",
    "    # Initializer\n",
    "    index = 0\n",
    "    \n",
    "    # A response flag (for Part 2)\n",
    "    is_infinite = True\n",
    "    \n",
    "    while run_program:\n",
    "        \n",
    "        # Append to instruction that was already run\n",
    "        instruction_tracker.append(index)\n",
    "        \n",
    "        # index should be within the range of the instructions array\n",
    "        if index < len(instructions) and index >= 0:\n",
    "            \n",
    "            # Collect command and return value\n",
    "            command = instructions[index]\n",
    "            index, accumulator = instruction_parser(command, index, accumulator)\n",
    "\n",
    "            # Check if the program has hit an index we already parsed?\n",
    "            if index in instruction_tracker:\n",
    "                run_program = False\n",
    "                \n",
    "        else:\n",
    "            # We went through all the indexes successfully, therefore, not infinite!\n",
    "            is_infinite = False\n",
    "            run_program = False\n",
    "            \n",
    "    return accumulator, is_infinite"
   ]
  },
  {
   "cell_type": "markdown",
   "metadata": {},
   "source": [
    "### Check the answer against sample"
   ]
  },
  {
   "cell_type": "code",
   "execution_count": 4,
   "metadata": {},
   "outputs": [
    {
     "name": "stdout",
     "output_type": "stream",
     "text": [
      "The answer by Advent of Code is 5.\n",
      "the response by the function is 5.\n"
     ]
    }
   ],
   "source": [
    "print(\"The answer by Advent of Code is 5.\\nthe response by the function is {}.\".format(infinite_finder(sample_instructions)[0]))"
   ]
  },
  {
   "cell_type": "code",
   "execution_count": 5,
   "metadata": {},
   "outputs": [
    {
     "data": {
      "text/plain": [
       "1766"
      ]
     },
     "execution_count": 5,
     "metadata": {},
     "output_type": "execute_result"
    }
   ],
   "source": [
    "infinite_finder(instructions)[0] # Answer"
   ]
  },
  {
   "cell_type": "markdown",
   "metadata": {},
   "source": [
    "---"
   ]
  },
  {
   "cell_type": "markdown",
   "metadata": {},
   "source": [
    "## Part 2\n",
    "\n",
    "After some careful analysis, you believe that exactly one instruction is corrupted.\n",
    "\n",
    "Somewhere in the program, either a `jmp` is supposed to be a `nop`, or a `nop` is supposed to be a `jmp`. (No `acc` instructions were harmed in the corruption of this boot code.)\n",
    "\n",
    "The program is supposed to terminate by attempting to execute an instruction immediately after the last instruction in the file. By changing exactly one jmp or nop, you can repair the boot code and make it terminate correctly.\n",
    "\n",
    "For example, consider the same program from above:\n",
    "\n",
    "```\n",
    "nop +0\n",
    "acc +1\n",
    "jmp +4\n",
    "acc +3\n",
    "jmp -3\n",
    "acc -99\n",
    "acc +1\n",
    "jmp -4\n",
    "acc +6\n",
    "```\n",
    "\n",
    "If you change the first instruction from `nop +0` to `jmp +0`, it would create a single-instruction infinite loop, never leaving that instruction. If you change almost any of the jmp instructions, the program will still eventually find another jmp instruction and loop forever.\n",
    "\n",
    "However, if you change the second-to-last instruction (from `jmp -4` to `nop -4`), the program terminates! The instructions are visited in this order:\n",
    "\n",
    "```\n",
    "nop +0  | 1\n",
    "acc +1  | 2\n",
    "jmp +4  | 3\n",
    "acc +3  |\n",
    "jmp -3  |\n",
    "acc -99 |\n",
    "acc +1  | 4\n",
    "nop -4  | 5\n",
    "acc +6  | 6\n",
    "```\n",
    "\n",
    "After the last instruction (`acc +6`), the program terminates by attempting to run the instruction below the last instruction in the file. With this change, after the program terminates, the accumulator contains the value 8 (`acc +1`, `acc +1`, `acc +6`).\n",
    "\n",
    "Fix the program so that it terminates normally by changing exactly one `jmp` (to `nop`) or `nop` (to `jmp`).\n",
    "\n",
    "What is the value of the accumulator after the program terminates?\n",
    "\n"
   ]
  },
  {
   "cell_type": "code",
   "execution_count": 6,
   "metadata": {},
   "outputs": [],
   "source": [
    "# import deepcopy so we can copy lists without\n",
    "# impacting parent list\n",
    "from copy import deepcopy\n",
    "\n",
    "# Build the infinite loop fixer\n",
    "def infinite_fixer(instructions):\n",
    "    \n",
    "    ## Initial Definition\n",
    "    \n",
    "    # A list that identifies indexes that may need replacement\n",
    "    targeted_instructions = []\n",
    "    \n",
    "    for i in range(len(instructions)):\n",
    "        if instructions[i][0] == 'nop' or instructions[i][0] == 'jmp':\n",
    "            targeted_instructions.append(i)\n",
    "    \n",
    "    # Assume the current set of instructions is infinite\n",
    "    is_infinite = True\n",
    "    \n",
    "    # Copy list\n",
    "    new_instructions = deepcopy(instructions)\n",
    "    \n",
    "    # Conduct a 'do-while' system on Python\n",
    "    while True:\n",
    "        \n",
    "        # Run it without any changes\n",
    "        accumulator, is_infinite = infinite_finder(new_instructions)\n",
    "        if not is_infinite:\n",
    "            # Break the loop once we've reached Nirvana (no loop, the program is fixed!)\n",
    "            break\n",
    "        \n",
    "        # If we run out of all possibilities\n",
    "        elif not targeted_instructions:\n",
    "            accumulator = None\n",
    "        \n",
    "        # Let's modify stuff\n",
    "        else:\n",
    "            \n",
    "            # Copy the old set of instructions\n",
    "            new_instructions = deepcopy(instructions)\n",
    "            \n",
    "            # Access first target list\n",
    "            i = targeted_instructions.pop(0)\n",
    "            \n",
    "            if new_instructions[i][0] == 'nop':\n",
    "                new_instructions[i][0] = 'jmp'\n",
    "            else:\n",
    "                new_instructions[i][0] = 'nop'\n",
    "    \n",
    "    return accumulator # Final result after fix"
   ]
  },
  {
   "cell_type": "code",
   "execution_count": 7,
   "metadata": {},
   "outputs": [
    {
     "data": {
      "text/plain": [
       "8"
      ]
     },
     "execution_count": 7,
     "metadata": {},
     "output_type": "execute_result"
    }
   ],
   "source": [
    "infinite_fixer(sample_instructions) # Check sample answer"
   ]
  },
  {
   "cell_type": "code",
   "execution_count": 8,
   "metadata": {},
   "outputs": [
    {
     "data": {
      "text/plain": [
       "1639"
      ]
     },
     "execution_count": 8,
     "metadata": {},
     "output_type": "execute_result"
    }
   ],
   "source": [
    "infinite_fixer(instructions) # Check answer"
   ]
  }
 ],
 "metadata": {
  "kernelspec": {
   "display_name": "Python 3",
   "language": "python",
   "name": "python3"
  },
  "language_info": {
   "codemirror_mode": {
    "name": "ipython",
    "version": 3
   },
   "file_extension": ".py",
   "mimetype": "text/x-python",
   "name": "python",
   "nbconvert_exporter": "python",
   "pygments_lexer": "ipython3",
   "version": "3.7.9"
  }
 },
 "nbformat": 4,
 "nbformat_minor": 4
}
