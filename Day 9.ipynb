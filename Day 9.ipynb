{
 "cells": [
  {
   "cell_type": "markdown",
   "metadata": {},
   "source": [
    "# Day 9\n",
    "## Part 1\n",
    "\n",
    "With your neighbor happily enjoying their video game, you turn your attention to an open data port on the little screen in the seat in front of you.\n",
    "\n",
    "Though the port is non-standard, you manage to connect it to your computer through the clever use of several paperclips. Upon connection, the port outputs a series of numbers (your puzzle input).\n",
    "\n",
    "The data appears to be encrypted with the eXchange-Masking Addition System (XMAS) which, conveniently for you, is an old cypher with an important weakness.\n",
    "\n",
    "XMAS starts by transmitting a preamble of 25 numbers. After that, each number you receive should be the sum of any two of the 25 immediately previous numbers. The two numbers will have different values, and there might be more than one such pair.\n",
    "\n",
    "For example, suppose your preamble consists of the numbers 1 through 25 in a random order. To be valid, the next number must be the sum of two of those numbers:\n",
    "\n",
    "* 26 would be a valid next number, as it could be 1 plus 25 (or many other pairs, like 2 and 24).\n",
    "* 49 would be a valid next number, as it is the sum of 24 and 25.\n",
    "* 100 would not be valid; no two of the previous 25 numbers sum to 100.\n",
    "* 50 would also not be valid; although 25 appears in the previous 25 numbers, the two numbers in the pair must be different.\n",
    "\n",
    "Suppose the 26th number is 45, and the first number (no longer an option, as it is more than 25 numbers ago) was 20. Now, for the next number to be valid, there needs to be some pair of numbers among 1-19, 21-25, or 45 that add up to it:\n",
    "\n",
    "* 26 would still be a valid next number, as 1 and 25 are still within the previous 25 numbers.\n",
    "* 65 would not be valid, as no two of the available numbers sum to it.\n",
    "* 64 and 66 would both be valid, as they are the result of 19+45 and 21+45 respectively.\n",
    "\n",
    "Here is a larger example which only considers the previous 5 numbers (and has a preamble of length 5):\n",
    "\n",
    "```\n",
    "35\n",
    "20\n",
    "15\n",
    "25\n",
    "47\n",
    "40\n",
    "62\n",
    "55\n",
    "65\n",
    "95\n",
    "102\n",
    "117\n",
    "150\n",
    "182\n",
    "127\n",
    "219\n",
    "299\n",
    "277\n",
    "309\n",
    "576\n",
    "```\n",
    "\n",
    "In this example, after the 5-number preamble, almost every number is the sum of two of the previous 5 numbers; the only number that does not follow this rule is `127`.\n",
    "\n",
    "The first step of attacking the weakness in the XMAS data is to find the first number in the list (after the preamble) which is not the sum of two of the 25 numbers before it. What is the first number that does not have this property?"
   ]
  },
  {
   "cell_type": "markdown",
   "metadata": {},
   "source": [
    "---"
   ]
  },
  {
   "cell_type": "code",
   "execution_count": 1,
   "metadata": {},
   "outputs": [
    {
     "data": {
      "text/plain": [
       "[10, 17, 27]"
      ]
     },
     "execution_count": 1,
     "metadata": {},
     "output_type": "execute_result"
    }
   ],
   "source": [
    "# Get data\n",
    "with open('inputs/day_9.txt') as reader:\n",
    "    encryption_sequence = [int(i.rstrip('\\n')) for i in reader]\n",
    "\n",
    "    \n",
    "# Collect sample data\n",
    "sample_sequence = [35,20,15,25,47,40,62,55,65,95,102,117,150,182,127,219,299,277,309,576]\n",
    "\n",
    "encryption_sequence[:3]"
   ]
  },
  {
   "cell_type": "code",
   "execution_count": 2,
   "metadata": {},
   "outputs": [],
   "source": [
    "def invalid_number_finder(sequence, preamble_length):\n",
    "    \n",
    "    # Loop through the full array until before the last element and the window\n",
    "    for i in range(len(sequence) - preamble_length - 1):\n",
    "        \n",
    "        # Collect the window we want to test with\n",
    "        window = sequence[i:preamble_length+i]\n",
    "        \n",
    "        # Sort the information\n",
    "        window.sort()\n",
    "        \n",
    "        # Capture the next_value in the sequence that we want to examine\n",
    "        next_value = sequence[preamble_length + i]\n",
    "        \n",
    "        # Run a do-while statement\n",
    "        while True:\n",
    "            \n",
    "            # Check if the next int in the sequence is valid given the following conditions\n",
    "            \n",
    "            # If our window size is too small, and only a single digit is left\n",
    "            # then the number we have at hand is invalid!\n",
    "            if len(window) == 1:\n",
    "                return next_value\n",
    "            \n",
    "            # If it's greater than the sum of smallest and largest, then drop the smallest number\n",
    "            # and try the next smallest number\n",
    "            elif next_value > window[0] + window[-1]:\n",
    "                window.pop(0)\n",
    "                \n",
    "            # Else if it's smaller than the sum of smallest and largest, the drop the largest numebr\n",
    "            # and try the next largest number again\n",
    "            elif next_value < window[0] + window[-1]:\n",
    "                window.pop()\n",
    "            \n",
    "            # If all conditions above are met, then next_value is a valid number!\n",
    "            else:\n",
    "                \n",
    "                # Breaks the while loop\n",
    "                break\n",
    "    \n",
    "    # If all numbers are valid, we pass None\n",
    "    return None"
   ]
  },
  {
   "cell_type": "code",
   "execution_count": 3,
   "metadata": {},
   "outputs": [
    {
     "data": {
      "text/plain": [
       "127"
      ]
     },
     "execution_count": 3,
     "metadata": {},
     "output_type": "execute_result"
    }
   ],
   "source": [
    "# Check sample answer\n",
    "invalid_number_finder(sample_sequence, 5)"
   ]
  },
  {
   "cell_type": "code",
   "execution_count": 4,
   "metadata": {},
   "outputs": [
    {
     "data": {
      "text/plain": [
       "1504371145"
      ]
     },
     "execution_count": 4,
     "metadata": {},
     "output_type": "execute_result"
    }
   ],
   "source": [
    "# Check puzzle answer\n",
    "target = invalid_number_finder(encryption_sequence, 25)\n",
    "target"
   ]
  },
  {
   "cell_type": "markdown",
   "metadata": {},
   "source": [
    "---"
   ]
  },
  {
   "cell_type": "markdown",
   "metadata": {},
   "source": [
    "## Part 2\n",
    "\n",
    "The final step in breaking the XMAS encryption relies on the invalid number you just found: you must find a contiguous set of at least two numbers in your list which sum to the invalid number from step 1.\n",
    "\n",
    "Again consider the above example:\n",
    "\n",
    "```\n",
    "35\n",
    "20\n",
    "15\n",
    "25\n",
    "47\n",
    "40\n",
    "62\n",
    "55\n",
    "65\n",
    "95\n",
    "102\n",
    "117\n",
    "150\n",
    "182\n",
    "127\n",
    "219\n",
    "299\n",
    "277\n",
    "309\n",
    "576\n",
    "```\n",
    "\n",
    "In this list, adding up all of the numbers from `15` through `40` produces the invalid number from step 1, `127`. (Of course, the contiguous set of numbers in your actual list might be much longer.)\n",
    "\n",
    "To find the encryption weakness, add together the **smallest** and **largest** number in this contiguous range; in this example, these are `15` and `47`, producing `62`.\n",
    "\n",
    "What is the encryption weakness in your XMAS-encrypted list of numbers?"
   ]
  },
  {
   "cell_type": "code",
   "execution_count": 5,
   "metadata": {},
   "outputs": [],
   "source": [
    "def sum_range_finder(target, sequence):\n",
    "    \n",
    "    # Welp, this is O^2\n",
    "    for i in range(0, len(sequence)-1):\n",
    "        for j in range(1, len(sequence)):\n",
    "            if sum(sequence[i:j]) == target:\n",
    "                return max(sequence[i:j]) + min(sequence[i:j])"
   ]
  },
  {
   "cell_type": "code",
   "execution_count": 6,
   "metadata": {},
   "outputs": [
    {
     "data": {
      "text/plain": [
       "183278487"
      ]
     },
     "execution_count": 6,
     "metadata": {},
     "output_type": "execute_result"
    }
   ],
   "source": [
    "# Check with sample answer\n",
    "sum_range_finder(target, encryption_sequence)"
   ]
  }
 ],
 "metadata": {
  "kernelspec": {
   "display_name": "Python 3",
   "language": "python",
   "name": "python3"
  },
  "language_info": {
   "codemirror_mode": {
    "name": "ipython",
    "version": 3
   },
   "file_extension": ".py",
   "mimetype": "text/x-python",
   "name": "python",
   "nbconvert_exporter": "python",
   "pygments_lexer": "ipython3",
   "version": "3.7.9"
  }
 },
 "nbformat": 4,
 "nbformat_minor": 4
}
